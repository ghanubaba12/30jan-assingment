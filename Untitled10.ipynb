{
 "cells": [
  {
   "cell_type": "code",
   "execution_count": null,
   "id": "6d0093a1-3dbe-45ec-9653-a10e6cf33b0e",
   "metadata": {},
   "outputs": [],
   "source": [
    "\"\"\"1. Write a program to accept percentage from the user and display the grade according to the following \n",
    "criteria: \n",
    "Marks \n",
    "Grade \n",
    ">90 \n",
    "A \n",
    ">80 and <=90 \n",
    "B \n",
    ">=60 and <=80 \n",
    "C \n",
    "below 60 \"\"\""
   ]
  },
  {
   "cell_type": "code",
   "execution_count": null,
   "id": "7a9b80ed-6445-4bf9-8a4f-a62ea1c61e5b",
   "metadata": {},
   "outputs": [],
   "source": [
    "You can write a program to accept the percentage from the user and display the corresponding grade as follows:"
   ]
  },
  {
   "cell_type": "code",
   "execution_count": 1,
   "id": "56df5b94-f5d5-40fd-8c69-337d211a930e",
   "metadata": {},
   "outputs": [
    {
     "name": "stdin",
     "output_type": "stream",
     "text": [
      "Enter your marks:  50\n"
     ]
    },
    {
     "name": "stdout",
     "output_type": "stream",
     "text": [
      "Grade: Below 60\n"
     ]
    }
   ],
   "source": [
    "def find_grade(marks):\n",
    "    if marks > 90:\n",
    "        return \"A\"\n",
    "    elif marks > 80 and marks <= 90:\n",
    "        return \"B\"\n",
    "    elif marks >= 60 and marks <= 80:\n",
    "        return \"C\"\n",
    "    else:\n",
    "        return \"Below 60\"\n",
    "\n",
    "marks = float(input(\"Enter your marks: \"))\n",
    "grade = find_grade(marks)\n",
    "print(\"Grade:\", grade)\n"
   ]
  },
  {
   "cell_type": "code",
   "execution_count": null,
   "id": "b51acce4-0eb7-4e3e-a843-ed3bc170115a",
   "metadata": {},
   "outputs": [],
   "source": [
    "\"\"\"2. Write a program to accept the cost price of a bike and display the road tax to be paid according to the \n",
    "following criteria: \n",
    "Tax \n",
    "15% \n",
    "10% \n",
    "5% \n",
    "Cost Price(in Rs) \n",
    ">100000 \"\"\""
   ]
  },
  {
   "cell_type": "code",
   "execution_count": null,
   "id": "af701f79-5a1f-4a0d-b691-bdd663fd355d",
   "metadata": {},
   "outputs": [],
   "source": [
    "You can write a program to accept the cost price of a bike and display the road tax to be paid according to the given criteria as follows:"
   ]
  },
  {
   "cell_type": "code",
   "execution_count": 2,
   "id": "70130de3-5171-4395-9e2a-1f0a0e61ddd0",
   "metadata": {},
   "outputs": [
    {
     "name": "stdin",
     "output_type": "stream",
     "text": [
      "Enter the cost price of the bike:  50000\n"
     ]
    },
    {
     "name": "stdout",
     "output_type": "stream",
     "text": [
      "Road Tax: 2500.0\n"
     ]
    }
   ],
   "source": [
    "def calculate_tax(cost_price):\n",
    "    if cost_price > 100000:\n",
    "        return cost_price * 0.15\n",
    "    elif cost_price > 50000 and cost_price <= 100000:\n",
    "        return cost_price * 0.10\n",
    "    else:\n",
    "        return cost_price * 0.05\n",
    "\n",
    "cost_price = float(input(\"Enter the cost price of the bike: \"))\n",
    "tax = calculate_tax(cost_price)\n",
    "print(\"Road Tax:\", tax)\n"
   ]
  },
  {
   "cell_type": "code",
   "execution_count": null,
   "id": "3617a5cc-d806-4c25-b0b9-d370554aeb0a",
   "metadata": {},
   "outputs": [],
   "source": [
    "\"\"\"3. Accept any city from the user and display monuments of that city. \n",
    "City \n",
    "Delhi \n",
    "Monument \n",
    "Red Fort \n",
    "Taj Mahal \n",
    "Agra \n",
    "Jaipur \n",
    "Jal Mahal \"\"\""
   ]
  },
  {
   "cell_type": "code",
   "execution_count": null,
   "id": "c6a84fce-dcd6-49a4-818b-011a0ae6479f",
   "metadata": {},
   "outputs": [],
   "source": [
    "You can write a program to accept a city from the user and display the monuments of that city as follows:"
   ]
  },
  {
   "cell_type": "code",
   "execution_count": 4,
   "id": "f7a620b0-04b6-4cf7-9a54-7b355968ef67",
   "metadata": {},
   "outputs": [
    {
     "name": "stdin",
     "output_type": "stream",
     "text": [
      "Enter the city:  Agra\n"
     ]
    },
    {
     "name": "stdout",
     "output_type": "stream",
     "text": [
      "Monuments in Agra:\n",
      "Taj Mahal\n"
     ]
    }
   ],
   "source": [
    "def display_monuments(city):\n",
    "    monuments = {\n",
    "        \"Delhi\": [\"Red Fort\"],\n",
    "        \"Agra\": [\"Taj Mahal\"],\n",
    "        \"Jaipur\": [\"Jal Mahal\"]\n",
    "    }\n",
    "    return monuments.get(city, [])\n",
    "\n",
    "city = input(\"Enter the city: \")\n",
    "monuments = display_monuments(city)\n",
    "if monuments:\n",
    "    print(\"Monuments in {}:\".format(city))\n",
    "    for monument in monuments:\n",
    "        print(monument)\n",
    "else:\n",
    "    print(\"No monuments found for the given city.\")\n"
   ]
  },
  {
   "cell_type": "code",
   "execution_count": null,
   "id": "7289bd85-d627-4120-b45a-7b4503898568",
   "metadata": {},
   "outputs": [],
   "source": [
    "\"\"\"4. Check how many times a given number can be divided by 3 before it is less than or equal to 10. \"\"\""
   ]
  },
  {
   "cell_type": "code",
   "execution_count": 5,
   "id": "aaf53fc0-4158-4c45-904c-d85c919f7fc6",
   "metadata": {},
   "outputs": [
    {
     "name": "stdin",
     "output_type": "stream",
     "text": [
      "Enter a number:  6\n"
     ]
    },
    {
     "name": "stdout",
     "output_type": "stream",
     "text": [
      "The number 6 can be divided by 3 0 times before it is less than or equal to 10.\n"
     ]
    }
   ],
   "source": [
    "def division_count(number):\n",
    "    count = 0\n",
    "    while number > 10:\n",
    "        number = number / 3\n",
    "        count += 1\n",
    "    return count\n",
    "\n",
    "number = int(input(\"Enter a number: \"))\n",
    "count = division_count(number)\n",
    "print(\"The number {} can be divided by 3 {} times before it is less than or equal to 10.\".format(number, count))\n"
   ]
  },
  {
   "cell_type": "code",
   "execution_count": null,
   "id": "7f344379-d04f-41a6-8a21-27d7d16c6917",
   "metadata": {},
   "outputs": [],
   "source": [
    "\"\"\"5. Why and When to Use while Loop in Pyth \n",
    "on give a detailed description with example \"\"\""
   ]
  },
  {
   "cell_type": "code",
   "execution_count": null,
   "id": "a9cbf6a6-522d-472d-adf1-08cfb3c66aca",
   "metadata": {},
   "outputs": [],
   "source": [
    "A while loop in Python is used to repeatedly execute a block of code as long as a certain condition is met. The condition is specified in the while statement and is evaluated before each iteration of the loop. If the condition is True, the loop continues to execute; otherwise, the loop terminates.\n",
    "\n",
    "Here's the basic syntax of a while loop:\n",
    "\n",
    "python\n",
    "Copy code\n",
    "while condition:\n",
    "    # Code to be executed\n",
    "The condition in the while statement is any expression that returns a boolean value (True or False). The code inside the loop continues to execute as long as the condition is True. Once the condition becomes False, the loop terminates and the control moves to the next statement outside the loop.\n",
    "\n",
    "The while loop is useful in the following scenarios:\n",
    "\n",
    "Repeating a task until a specific condition is met: For example, you can use a while loop to repeatedly prompt the user for input until the user enters a valid value.\n",
    "\n",
    "Running an indefinite number of times: If the condition in the while statement is always True, the loop will run indefinitely until a break statement is executed. This is useful in scenarios where you want to keep running a task until a specific event occurs.\n",
    "\n",
    "Performing operations on a sequence of items: The while loop can be used to process elements of a list, queue, or any other iterable data structure one by one.\n",
    "\n",
    "It's important to keep in mind that an infinite loop will occur if the condition in the while statement never becomes False. To avoid this, it's a good practice to include a statement in the code that updates the condition and eventually makes it False.\n",
    "\n",
    "For example:\n",
    "\n",
    "python\n",
    "Copy code\n",
    "count = 0\n",
    "while count < 10:\n",
    "    print(count)\n",
    "    count += 1\n",
    "This code prints the numbers from 0 to 9 and terminates when the value of count reaches 10.\n",
    "\n",
    "\n",
    "\n",
    "\n"
   ]
  },
  {
   "cell_type": "code",
   "execution_count": null,
   "id": "5fdcc002-f5f6-4282-81c6-e8a039cd72a6",
   "metadata": {},
   "outputs": [],
   "source": [
    "\"\"\"6. Use nested while loop to print 3 different patterns. \"\"\"\""
   ]
  },
  {
   "cell_type": "code",
   "execution_count": null,
   "id": "b5ef0055-a6c4-44ae-b492-960a1f01d5e2",
   "metadata": {},
   "outputs": [],
   "source": [
    "Sure, here are three different patterns you can create using nested while loops in Python:\n",
    "\n",
    "Right-angled Triangle:"
   ]
  },
  {
   "cell_type": "code",
   "execution_count": 6,
   "id": "501babfa-a03b-43d7-b006-14fe1ee0d250",
   "metadata": {},
   "outputs": [
    {
     "ename": "SyntaxError",
     "evalue": "incomplete input (960312035.py, line 2)",
     "output_type": "error",
     "traceback": [
      "\u001b[0;36m  Cell \u001b[0;32mIn[6], line 2\u001b[0;36m\u001b[0m\n\u001b[0;31m    for i in range(1, rows +\u001b[0m\n\u001b[0m                            ^\u001b[0m\n\u001b[0;31mSyntaxError\u001b[0m\u001b[0;31m:\u001b[0m incomplete input\n"
     ]
    }
   ],
   "source": [
    "rows = 5\n",
    "for i in range(1, rows +\n"
   ]
  },
  {
   "cell_type": "code",
   "execution_count": null,
   "id": "165425d8-f547-4fd1-b962-9f47ff92aad2",
   "metadata": {},
   "outputs": [],
   "source": [
    "\"\"\"7. Reverse a while loop to display numbers from 10 to 1\"\"\"\"\n"
   ]
  },
  {
   "cell_type": "code",
   "execution_count": null,
   "id": "bed61d7d-e636-4285-ab8d-bdfffb5cbbc4",
   "metadata": {},
   "outputs": [],
   "source": [
    "Here's how you can reverse a while loop to display numbers from 10 to 1:\n",
    "\n",
    "python\n",
    "Copy code\n",
    "num = 10\n",
    "while num >= 1:\n",
    "    print(num)\n",
    "    num -= 1\n",
    "This code sets num to 10, and then runs the loop until num is greater than or equal to 1. In each iteration, it prints the value of num and then decrements it by 1."
   ]
  },
  {
   "cell_type": "code",
   "execution_count": null,
   "id": "04ead6b0-d130-48d1-8d02-b2c109a4e038",
   "metadata": {},
   "outputs": [],
   "source": []
  },
  {
   "cell_type": "code",
   "execution_count": null,
   "id": "468d8732-c7bc-43c4-842c-68ab33ee18d5",
   "metadata": {},
   "outputs": [],
   "source": []
  },
  {
   "cell_type": "code",
   "execution_count": null,
   "id": "c047077b-b4a1-4db2-9186-ca68843da070",
   "metadata": {},
   "outputs": [],
   "source": []
  },
  {
   "cell_type": "code",
   "execution_count": null,
   "id": "3d5a80e1-2bd0-4051-99e9-2ec12af53fa4",
   "metadata": {},
   "outputs": [],
   "source": []
  },
  {
   "cell_type": "code",
   "execution_count": null,
   "id": "116f1ad7-2be7-4c7e-a8f1-1ab21d0ef889",
   "metadata": {},
   "outputs": [],
   "source": []
  },
  {
   "cell_type": "code",
   "execution_count": null,
   "id": "ef7b8025-9e7c-46b4-b9d9-3a889068125e",
   "metadata": {},
   "outputs": [],
   "source": []
  }
 ],
 "metadata": {
  "kernelspec": {
   "display_name": "Python 3 (ipykernel)",
   "language": "python",
   "name": "python3"
  },
  "language_info": {
   "codemirror_mode": {
    "name": "ipython",
    "version": 3
   },
   "file_extension": ".py",
   "mimetype": "text/x-python",
   "name": "python",
   "nbconvert_exporter": "python",
   "pygments_lexer": "ipython3",
   "version": "3.10.8"
  }
 },
 "nbformat": 4,
 "nbformat_minor": 5
}
